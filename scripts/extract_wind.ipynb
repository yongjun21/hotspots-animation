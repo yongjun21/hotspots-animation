{
 "cells": [
  {
   "cell_type": "code",
   "execution_count": 1,
   "metadata": {},
   "outputs": [],
   "source": [
    "import pygrib\n",
    "import pandas as pd"
   ]
  },
  {
   "cell_type": "code",
   "execution_count": 2,
   "metadata": {},
   "outputs": [],
   "source": [
    "from datetime import date, timedelta\n",
    "\n",
    "T1 = date(2013, 1, 1)"
   ]
  },
  {
   "cell_type": "code",
   "execution_count": 3,
   "metadata": {},
   "outputs": [],
   "source": [
    "def extract (t):\n",
    "    date = T1 + timedelta(days=t - 1)\n",
    "    filename = 'data/raw/NCEP_CFSV2/cdas1.{}.pgrbanl.grb2'.format(date.strftime('%Y%m%d'))\n",
    "    grbs = pygrib.open(filename)\n",
    "    grbs.seek(0)\n",
    "    layers = [grb for grb in grbs]\n",
    "    lat, lon = layers[0].latlons()\n",
    "    u = layers[2].values\n",
    "    v = layers[3].values\n",
    "    df = pd.DataFrame({\n",
    "        'x': lon.flatten(),\n",
    "        'y': lat.flatten(),\n",
    "        't': t,\n",
    "        'u': u.flatten(),\n",
    "        'v': v.flatten()\n",
    "    })\n",
    "    return df"
   ]
  },
  {
   "cell_type": "code",
   "execution_count": 4,
   "metadata": {},
   "outputs": [],
   "source": [
    "df = pd.DataFrame()\n",
    "\n",
    "for t in range(1, 2453):\n",
    "    df = df.append(extract(t))"
   ]
  },
  {
   "cell_type": "code",
   "execution_count": 5,
   "metadata": {},
   "outputs": [
    {
     "data": {
      "text/plain": [
       "1596252"
      ]
     },
     "execution_count": 5,
     "metadata": {},
     "output_type": "execute_result"
    }
   ],
   "source": [
    "len(df)"
   ]
  },
  {
   "cell_type": "code",
   "execution_count": 6,
   "metadata": {},
   "outputs": [],
   "source": [
    "df.to_csv('data/processed/wind_2500ft.csv', index=False, header=False, float_format='%.2f')"
   ]
  }
 ],
 "metadata": {
  "kernelspec": {
   "display_name": "Python 3",
   "language": "python",
   "name": "python3"
  },
  "language_info": {
   "codemirror_mode": {
    "name": "ipython",
    "version": 3
   },
   "file_extension": ".py",
   "mimetype": "text/x-python",
   "name": "python",
   "nbconvert_exporter": "python",
   "pygments_lexer": "ipython3",
   "version": "3.7.3"
  }
 },
 "nbformat": 4,
 "nbformat_minor": 4
}
